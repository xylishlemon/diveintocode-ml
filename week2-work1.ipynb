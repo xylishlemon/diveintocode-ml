{
 "cells": [
  {
   "cell_type": "code",
   "execution_count": 25,
   "metadata": {},
   "outputs": [
    {
     "name": "stdout",
     "output_type": "stream",
     "text": [
      "4マスの板に小麦を並べる（リスト）：[1, 2, 4, 8]\n"
     ]
    }
   ],
   "source": [
    "n_squares = 4\n",
    "small_board_list = [1]\n",
    "for _ in range(n_squares - 1): # 0スタートなので一回多くなる\n",
    "    small_board_list.append(2*small_board_list[-1]) # small_board_listの最後の値に2を掛ける\n",
    "print(\"4マスの板に小麦を並べる（リスト）：{}\".format(small_board_list))"
   ]
  },
  {
   "cell_type": "code",
   "execution_count": 3,
   "metadata": {},
   "outputs": [
    {
     "name": "stdout",
     "output_type": "stream",
     "text": [
      "4マスの板に小麦を並べる（ndarray）：[1 2 4 8]\n"
     ]
    }
   ],
   "source": [
    "import numpy as np\n",
    "\n",
    "small_board_ndarray = np.array(small_board_list)\n",
    "print(\"4マスの板に小麦を並べる（ndarray）：{}\".format(small_board_ndarray))"
   ]
  },
  {
   "cell_type": "markdown",
   "metadata": {},
   "source": [
    "### 【問題1】2×2マスのチェス盤の小麦の数\n",
    "2×2マスのチェス盤をndarrayによって表現し、各マスの小麦の数を計算してください。左上のマスに小麦を1つ置いた後、その右が2つ、左下が4つ、右下が8つという風に進みます。\n",
    "\n",
    "サンプルコードで作成したndarrayのshapeの変形を行ってください。"
   ]
  },
  {
   "cell_type": "code",
   "execution_count": 33,
   "metadata": {},
   "outputs": [
    {
     "name": "stdout",
     "output_type": "stream",
     "text": [
      "2×2マスのチェス盤の小麦の数：[[1 2]\n",
      " [4 8]]\n"
     ]
    }
   ],
   "source": [
    "import numpy as np\n",
    "\n",
    "n_squares = 4\n",
    "small_board_list = [1]\n",
    "for _ in range(n_squares - 1):\n",
    "    small_board_list.append(2*small_board_list[-1])\n",
    "\n",
    "small_board_ndarray = np.array(small_board_list).reshape(2,2)\n",
    "print(\"2×2マスのチェス盤の小麦の数：{}\".format(small_board_ndarray))"
   ]
  },
  {
   "cell_type": "markdown",
   "metadata": {},
   "source": [
    "### 【問題2】n×mマスへの拡張\n",
    "n×mマスのチェス盤の小麦の数を記したndarrayを返す関数を作成してください。そして、この関数を使い8×8マスのチェス盤の小麦の数を求めてください。"
   ]
  },
  {
   "cell_type": "code",
   "execution_count": 88,
   "metadata": {},
   "outputs": [
    {
     "name": "stdout",
     "output_type": "stream",
     "text": [
      "7×7マスの小麦の数：[[              1               2               4               8\n",
      "               16              32              64]\n",
      " [            128             256             512            1024\n",
      "             2048            4096            8192]\n",
      " [          16384           32768           65536          131072\n",
      "           262144          524288         1048576]\n",
      " [        2097152         4194304         8388608        16777216\n",
      "         33554432        67108864       134217728]\n",
      " [      268435456       536870912      1073741824      2147483648\n",
      "       4294967296      8589934592     17179869184]\n",
      " [    34359738368     68719476736    137438953472    274877906944\n",
      "     549755813888   1099511627776   2199023255552]\n",
      " [  4398046511104   8796093022208  17592186044416  35184372088832\n",
      "   70368744177664 140737488355328 281474976710656]]\n"
     ]
    }
   ],
   "source": [
    "import numpy as np\n",
    "\n",
    "def n_board(n_squares):\n",
    "    small_board_list = [1] # 最初の小麦の数（左上：最初）\n",
    "    \n",
    "    for _ in range(n_squares - 1):\n",
    "        small_board_list.append(2*small_board_list[-1])\n",
    "    \n",
    "    return small_board_list\n",
    "\n",
    "nm = 7 # n×mマスの指定\n",
    "n_squares = nm ** 2 # n×mマスの総数（総数分のループ処理）\n",
    "small_board_list = n_board(n_squares) # n_board関数からの戻り値を格納\n",
    "\n",
    "small_board_ndarray = np.array(small_board_list).reshape(nm,nm) # numpy配列\n",
    "print(\"{}×{}マスの小麦の数：{}\".format(nm, nm, small_board_ndarray))"
   ]
  },
  {
   "cell_type": "markdown",
   "metadata": {},
   "source": [
    "### 【問題3】小麦の数の合計\n",
    "8×8マスのチェス盤の小麦の数の合計を求めてください。また、各列の平均を求め、それを棒グラフで可視化してください。"
   ]
  },
  {
   "cell_type": "code",
   "execution_count": 84,
   "metadata": {},
   "outputs": [
    {
     "name": "stdout",
     "output_type": "stream",
     "text": [
      "8×8マスの小麦の数：[7.20575940e+16 1.44115188e+17 2.88230376e+17 5.76460752e+17\n",
      " 1.15292150e+18 2.30584301e+18 4.61168602e+18 9.22337204e+18]個\n",
      "8×8マスの小麦の合計：1.8446744073709552e+19個\n",
      "各列の平均は[9.04252160e+15 1.80850432e+16 3.61700864e+16 7.23401728e+16\n",
      " 1.44680346e+17 2.89360691e+17 5.78721383e+17 1.15744277e+18]\n"
     ]
    },
    {
     "data": {
      "image/png": "[encoded data removed]",
      "text/plain": [
       "<Figure size 432x288 with 1 Axes>"
      ]
     },
     "metadata": {
      "needs_background": "light"
     },
     "output_type": "display_data"
    }
   ],
   "source": [
    "import numpy as np\n",
    "import matplotlib.pyplot as plt\n",
    "%matplotlib inline\n",
    "\n",
    "def n_board(n_squares):\n",
    "    small_board_list = [1] # 最初の小麦の数（左上：最初）\n",
    "    \n",
    "    for _ in range(n_squares - 1):\n",
    "        small_board_list.append(2*small_board_list[-1])\n",
    "    \n",
    "    return small_board_list\n",
    "\n",
    "nm = 8 # n×mマスの指定\n",
    "n_squares = nm ** 2 # n×mマスの総数（総数分のループ処理）\n",
    "small_board_list = n_board(n_squares) # n_board関数からの戻り値を格納\n",
    "\n",
    "small_board_ndarray = np.array(small_board_list).reshape(nm,nm) # numpy配列\n",
    "print(\"{}×{}マスの小麦の数：{}個\".format(nm, nm, small_board_ndarray[-1]))\n",
    "print(\"{}×{}マスの小麦の合計：{}個\".format(nm, nm, small_board_ndarray.sum()))\n",
    "print(\"各列の平均は{}\".format(small_board_ndarray.mean(axis=0)))\n",
    "\n",
    "left = np.arange(nm)\n",
    "height = small_board_ndarray.mean(axis=0)\n",
    "\n",
    "plt.xlabel(\"column\")\n",
    "plt.ylabel(\"number\")\n",
    "plt.title(\"number in each column\")\n",
    "plt.bar(left, height)\n",
    "plt.show()"
   ]
  },
  {
   "cell_type": "markdown",
   "metadata": {},
   "source": [
    "### 【問題4】小麦の数のヒートマップ\n",
    "8×8マスのチェス盤の小麦の数をヒートマップとして可視化してください。"
   ]
  },
  {
   "cell_type": "code",
   "execution_count": 78,
   "metadata": {},
   "outputs": [
    {
     "data": {
      "image/png": "[encoded data removed]",
      "text/plain": [
       "<Figure size 432x288 with 1 Axes>"
      ]
     },
     "metadata": {
      "needs_background": "light"
     },
     "output_type": "display_data"
    }
   ],
   "source": [
    "import numpy as np\n",
    "import matplotlib.pyplot as plt\n",
    "%matplotlib inline\n",
    "\n",
    "def n_board(n_squares):\n",
    "    small_board_list = [1] # 最初の小麦の数（左上：最初）\n",
    "    \n",
    "    for _ in range(n_squares - 1):\n",
    "        small_board_list.append(2*small_board_list[-1])\n",
    "    \n",
    "    return small_board_list\n",
    "\n",
    "nm = 8 # n×mマスの指定\n",
    "n_squares = nm ** 2 # n×mマスの総数（総数分のループ処理）\n",
    "small_board_list = n_board(n_squares) # n_board関数からの戻り値を格納\n",
    "\n",
    "small_board_ndarray = np.array(small_board_list).reshape(nm,nm) # numpy配列\n",
    "# print(\"{}×{}マスの小麦の数：{}個\".format(nm, nm, small_board_ndarray[-1]))\n",
    "# print(\"{}×{}マスの小麦の合計：{}個\".format(nm, nm, small_board_ndarray.sum()))\n",
    "# print(\"各列の平均は{}\".format(small_board_ndarray.mean(axis=0)))\n",
    "\n",
    "plt.xlabel(\"column\")\n",
    "plt.ylabel(\"row\")\n",
    "plt.title(\"heatmap\")\n",
    "plt.pcolor(small_board_ndarray)\n",
    "plt.show()"
   ]
  },
  {
   "cell_type": "markdown",
   "metadata": {},
   "source": [
    "### 【問題5】後半は前半の何倍か\n",
    "チェス盤の後半にある小麦の数は前半にある小麦の数の何倍かを求めてください。前半とは配列の0から3行目、後半は4から7行目です。"
   ]
  },
  {
   "cell_type": "code",
   "execution_count": 110,
   "metadata": {},
   "outputs": [
    {
     "name": "stdout",
     "output_type": "stream",
     "text": [
      "後半は前半の4294967296.0倍\n"
     ]
    }
   ],
   "source": [
    "import numpy as np\n",
    "import matplotlib.pyplot as plt\n",
    "%matplotlib inline\n",
    "\n",
    "def n_board(n_squares):\n",
    "    small_board_list = [1] # 最初の小麦の数（左上：最初）\n",
    "    \n",
    "    for _ in range(n_squares - 1):\n",
    "        small_board_list.append(2*small_board_list[-1])\n",
    "    \n",
    "    return small_board_list\n",
    "\n",
    "nm = 8 # n×mマスの指定\n",
    "n_squares = nm ** 2 # n×mマスの総数（総数分のループ処理）\n",
    "n_half = int(n_squares / 2) # 総数の半分を分ける（割り算はfloatになるのでintに変換）\n",
    "small_board_list = n_board(n_squares) # n_board関数からの戻り値を格納\n",
    "\n",
    "small_board_ndarray = np.array(small_board_list) # numpy配列\n",
    "\n",
    "# 前半（1st）と後半（2nd）に分けて、そこまでの総数の合計を計算\n",
    "small_board_1st = np.sum(small_board_ndarray[:n_half])\n",
    "small_board_2nd = np.sum(small_board_ndarray[n_half:])\n",
    "\n",
    "# 何倍かの計算\n",
    "magnification = small_board_2nd / small_board_1st\n",
    "\n",
    "# print(small_board_ndarray)\n",
    "# print(small_board_1st)\n",
    "# print(small_board_2nd)\n",
    "print(\"後半は前半の{}倍\".format(magnification))"
   ]
  },
  {
   "cell_type": "code",
   "execution_count": 114,
   "metadata": {},
   "outputs": [
    {
     "name": "stdout",
     "output_type": "stream",
     "text": [
      "4マスの板に小麦を並べる（ndarray）：[1 2 4 8]\n"
     ]
    }
   ],
   "source": [
    "\"\"\"\n",
    "n_squares = 4\n",
    "small_board_ndarray = np.array([1])\n",
    "for _ in range(n_squares - 1):\n",
    "    small_board_ndarray = np.append(small_board_ndarray, 2*small_board_ndarray[-1])\n",
    "#     print(small_board_ndarray)\n",
    "print(\"4マスの板に小麦を並べる（ndarray）：{}\".format(small_board_ndarray))"
   ]
  },
  {
   "cell_type": "code",
   "execution_count": 117,
   "metadata": {},
   "outputs": [
    {
     "name": "stdout",
     "output_type": "stream",
     "text": [
      "[0 1 2 3]\n",
      "4マスの板に小麦を並べる（ndarray）：[1 2 4 8]\n"
     ]
    }
   ],
   "source": [
    "\"\"\"\n",
    "n_squares = 4\n",
    "indices_of_squares = np.arange(n_squares)\n",
    "print(indices_of_squares)\n",
    "small_board_ndarray = 2**indices_of_squares # 2のn乘を計算\n",
    "print(\"4マスの板に小麦を並べる（ndarray）：{}\".format(small_board_ndarray))"
   ]
  },
  {
   "cell_type": "code",
   "execution_count": 120,
   "metadata": {},
   "outputs": [
    {
     "name": "stdout",
     "output_type": "stream",
     "text": [
      "最後のマスの小麦の数：-9223372036854775808\n",
      "int64\n"
     ]
    },
    {
     "name": "stderr",
     "output_type": "stream",
     "text": [
      "/Users/HK/.pyenv/versions/anaconda3-2019.03/lib/python3.7/site-packages/ipykernel_launcher.py:4: RuntimeWarning: overflow encountered in long_scalars\n",
      "  after removing the cwd from sys.path.\n"
     ]
    }
   ],
   "source": [
    "\"\"\"\n",
    "n_squares = 64\n",
    "board_ndarray = np.array([1])\n",
    "for _ in range(n_squares - 1):\n",
    "    board_ndarray = np.append(board_ndarray, 2*board_ndarray[-1])\n",
    "print(\"最後のマスの小麦の数：{}\".format(board_ndarray[-1]))\n",
    "print(board_ndarray.dtype)"
   ]
  },
  {
   "cell_type": "code",
   "execution_count": 121,
   "metadata": {},
   "outputs": [
    {
     "name": "stdout",
     "output_type": "stream",
     "text": [
      "最後のマスの小麦の数：-9223372036854775808\n",
      "int64\n"
     ]
    }
   ],
   "source": [
    "\"\"\"\n",
    "n_squares = 64\n",
    "indices_of_squares = np.arange(n_squares)\n",
    "board_ndarray = 2**indices_of_squares\n",
    "print(\"最後のマスの小麦の数：{}\".format(board_ndarray[-1]))\n",
    "print(board_ndarray.dtype)"
   ]
  },
  {
   "cell_type": "code",
   "execution_count": 122,
   "metadata": {},
   "outputs": [
    {
     "name": "stdout",
     "output_type": "stream",
     "text": [
      "最後のマスの小麦の数：9223372036854775808\n"
     ]
    }
   ],
   "source": [
    "\"\"\"\n",
    "n_squares = 64\n",
    "indices_of_squares = np.arange(n_squares).astype(np.uint64)\n",
    "board_ndarray = 2**indices_of_squares\n",
    "print(\"最後のマスの小麦の数：{}\".format(board_ndarray[-1]))"
   ]
  },
  {
   "cell_type": "markdown",
   "metadata": {},
   "source": [
    "### 【問題6】他の計算方法によるn×mマスへの拡張\n",
    "問題2と同様の「n×mマスのチェス盤の小麦の数を記したndarrayを返す関数」を、np.append()を使ったものと、ブロードキャストを使ったもので新たに作成してください。\n",
    "\n",
    "それらの関数を使い8×8マスのチェス盤の小麦の数を再び求めてください。"
   ]
  },
  {
   "cell_type": "code",
   "execution_count": 134,
   "metadata": {},
   "outputs": [
    {
     "name": "stdout",
     "output_type": "stream",
     "text": [
      "3×3マスの小麦の数：[[  1.   2.   4.]\n",
      " [  8.  16.  32.]\n",
      " [ 64. 128. 256.]]\n"
     ]
    }
   ],
   "source": [
    "# np.append().ver\n",
    "import numpy as np\n",
    "\n",
    "def n_board(n_squares):\n",
    "    board_ndarray = np.array([1]).astype(np.uint64) # 最初の小麦の数（左上：最初）\n",
    "    \n",
    "    for _ in range(n_squares - 1):\n",
    "        board_ndarray = np.append(board_ndarray, 2*board_ndarray[-1])\n",
    "    \n",
    "    return board_ndarray\n",
    "\n",
    "nm = 3 # n×mマスの指定\n",
    "n_squares = nm ** 2 # n×mマスの総数（総数分のループ処理）\n",
    "board_ndarray = n_board(n_squares) # n_board関数からの戻り値を格納\n",
    "\n",
    "small_board_ndarray = np.array(board_ndarray).reshape(nm,nm) # numpy配列\n",
    "print(\"{}×{}マスの小麦の数：{}\".format(nm, nm, small_board_ndarray))"
   ]
  },
  {
   "cell_type": "code",
   "execution_count": 143,
   "metadata": {},
   "outputs": [
    {
     "name": "stdout",
     "output_type": "stream",
     "text": [
      "3×3マスの小麦の数：[[  1   2   4]\n",
      " [  8  16  32]\n",
      " [ 64 128 256]]\n"
     ]
    }
   ],
   "source": [
    "# ブロードキャスト.ver\n",
    "import numpy as np\n",
    "\n",
    "def n_board(n_squares):\n",
    "    indices_of_squares = np.arange(n_squares).astype(np.uint64)\n",
    "    board_ndarray = 2**indices_of_squares\n",
    "    \n",
    "    return board_ndarray\n",
    "\n",
    "nm = 3 # n×mマスの指定\n",
    "n_squares = nm ** 2 # n×mマスの総数（総数分のループ処理）\n",
    "board_ndarray = n_board(n_squares) # n_board関数からの戻り値を格納\n",
    "\n",
    "small_board_ndarray = np.array(board_ndarray).reshape(nm,nm) # numpy配列\n",
    "print(\"{}×{}マスの小麦の数：{}\".format(nm, nm, small_board_ndarray))"
   ]
  },
  {
   "cell_type": "markdown",
   "metadata": {},
   "source": [
    "### 【問題7】計算時間の比較\n",
    "3種類の方法を見てきました。それぞれの計算時間をJupyter Notebookの%%timeitを用いて計測し、比較と考察を行ってください。"
   ]
  },
  {
   "cell_type": "code",
   "execution_count": 2,
   "metadata": {},
   "outputs": [],
   "source": [
    "import numpy as np"
   ]
  },
  {
   "cell_type": "code",
   "execution_count": 11,
   "metadata": {},
   "outputs": [
    {
     "name": "stdout",
     "output_type": "stream",
     "text": [
      "16.6 µs ± 1.02 µs per loop (mean ± std. dev. of 3 runs, 10000 loops each)\n"
     ]
    }
   ],
   "source": [
    "%%timeit -r 3 -n 10000\n",
    "n_squares = 64\n",
    "small_board_list = [1]\n",
    "for _ in range(n_squares - 1):\n",
    "    small_board_list.append(2*small_board_list[-1])\n",
    "\n",
    "small_board_ndarray = np.array(small_board_list)\n",
    "# print(\"最後のマスの小麦の数：{}\".format(small_board_ndarray[-1]))"
   ]
  },
  {
   "cell_type": "code",
   "execution_count": 12,
   "metadata": {},
   "outputs": [
    {
     "name": "stdout",
     "output_type": "stream",
     "text": [
      "266 µs ± 2.9 µs per loop (mean ± std. dev. of 3 runs, 10000 loops each)\n"
     ]
    }
   ],
   "source": [
    "%%timeit -r 3 -n 10000\n",
    "n_squares = 64\n",
    "small_board_ndarray = np.array([1]).astype(np.uint64) \n",
    "for _ in range(n_squares - 1):\n",
    "    small_board_ndarray = np.append(small_board_ndarray, 2*small_board_ndarray[-1])\n",
    "# print(\"最後のマスの小麦の数：{}\".format(small_board_ndarray[-1]))"
   ]
  },
  {
   "cell_type": "code",
   "execution_count": 13,
   "metadata": {},
   "outputs": [
    {
     "name": "stdout",
     "output_type": "stream",
     "text": [
      "3.64 µs ± 859 ns per loop (mean ± std. dev. of 3 runs, 10000 loops each)\n"
     ]
    }
   ],
   "source": [
    "%%timeit -r 3 -n 10000\n",
    "n_squares = 64\n",
    "indices_of_squares = np.arange(n_squares).astype(np.uint64)\n",
    "board_ndarray = 2**indices_of_squares\n",
    "# print(\"最後のマスの小麦の数：{}\".format(board_ndarray[-1]))"
   ]
  },
  {
   "cell_type": "markdown",
   "metadata": {},
   "source": [
    "### 【考察】\n",
    "2のn乘計算が最も処理速度が早く、forを使用した場合はどちらも遅くなる結果となった。  \n",
    "forに関しては、numpyを使ったappendの方が遅く、これはnp.appendが破壊的なメソッドであることが原因だと考えられる。"
   ]
  }
 ],
 "metadata": {
  "kernelspec": {
   "display_name": "Python 3",
   "language": "python",
   "name": "python3"
  },
  "language_info": {
   "codemirror_mode": {
    "name": "ipython",
    "version": 3
   },
   "file_extension": ".py",
   "mimetype": "text/x-python",
   "name": "python",
   "nbconvert_exporter": "python",
   "pygments_lexer": "ipython3",
   "version": "3.7.3"
  }
 },
 "nbformat": 4,
 "nbformat_minor": 2
}
