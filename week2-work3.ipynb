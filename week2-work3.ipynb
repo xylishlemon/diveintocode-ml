{
 "cells": [
  {
   "cell_type": "markdown",
   "metadata": {},
   "source": [
    "### 【問題1】行列積を手計算する\n",
    "以下のような行列A,Bを考えます。  \n",
    "\n",
    "$$\n",
    "    % \"boldsymbol\"で太字にしている\n",
    "    \\boldsymbol{A} =\n",
    "        % ベクトルや行列は\"left[\"と\"right]\"でベクトルや行列の括弧を作る\n",
    "        % 括弧内に\"array\"環境を展開する\n",
    "        % {c|cc}の形で中央揃え、縦線、中央揃え*2の並びに出来る\n",
    "        \\left[\\begin{array}{c}\n",
    "            -1 & 2 & 3 \\\\\n",
    "            4 & -5 & 6 \\\\\n",
    "            7 & 8 & -9 \\\\\n",
    "        \\end{array}\\right] \\quad\n",
    "    \\boldsymbol{B} =\n",
    "        \\left[\\begin{array}{c}\n",
    "            0 & 2 & 1 \\\\\n",
    "            0 & 2 & -8 \\\\\n",
    "            2 & 9 & -1 \\\\\n",
    "        \\end{array}\\right] \\quad\n",
    "$$\n",
    "\n",
    "AとBの行列積を手計算で解いてください。  \n",
    "計算過程もマークダウンテキストを用いて説明してください。"
   ]
  },
  {
   "cell_type": "markdown",
   "metadata": {},
   "source": [
    "### 【解答】\n",
    "$$\n",
    "\\boldsymbol{A*B} =\n",
    "        \\left[\\begin{array}{c}\n",
    "            6 & 29 & -20 \\\\\n",
    "            12 & 52 & 38 \\\\\n",
    "            -18 & -51 & -48 \\\\\n",
    "        \\end{array}\\right] \\quad\n",
    "$$\n",
    "\n",
    "行列積を求める場合、n行m列成分は、「左の行列のn行目」と「右の行列のm列目」の内積から求めることができる。\n",
    "例えば、左上にくる$[0][0]$だと、\n",
    "$C[0][0] = A[0][0] * B[0][0] + A[0][1] * B[1][0] + A[0][2] * B[2][0]$\n",
    "となる。\n",
    "同様に、n行m列の求めたい箇所を計算することで行列積を求めることができる。\n",
    "$C[0][1] = A[0][0] * B[0][1] + A[0][1] * B[1][1] + A[0][2] * B[2][1]$\n",
    "$C[0][2] = A[0][0] * B[0][2] + A[0][1] * B[1][2] + A[0][2] * B[2][2]$\n",
    "$C[1][0] = A[1][0] * B[0][0] + A[1][1] * B[1][0] + A[1][2] * B[2][0]$\n",
    "$C[1][1] = A[1][0] * B[0][1] + A[1][1] * B[1][1] + A[1][2] * B[2][1]$\n",
    "$C[1][2] = A[1][0] * B[0][2] + A[1][1] * B[1][2] + A[1][2] * B[2][2]$\n",
    "$C[2][0] = A[2][0] * B[0][0] + A[2][1] * B[1][0] + A[2][2] * B[2][0]$\n",
    "$C[2][1] = A[2][0] * B[0][1] + A[2][1] * B[1][1] + A[2][2] * B[2][1]$\n",
    "$C[2][2] = A[2][0] * B[0][2] + A[2][1] * B[1][2] + A[2][2] * B[2][2]$"
   ]
  },
  {
   "cell_type": "markdown",
   "metadata": {},
   "source": [
    "### 【問題2】NumPyの関数による計算\n",
    "この行列積はNumPyのnp.matmul()やnp.dot()、または@演算子を使うことで簡単に計算できます。\n",
    "\n",
    "これらを使い行列積を計算してください。"
   ]
  },
  {
   "cell_type": "markdown",
   "metadata": {},
   "source": [
    "#### 【解答】\n",
    "$$\n",
    "\\boldsymbol{A*B} =\n",
    "        \\left[\\begin{array}{c}\n",
    "            6 & 29 & -20 \\\\\n",
    "            12 & 52 & 38 \\\\\n",
    "            -18 & -51 & -48 \\\\\n",
    "        \\end{array}\\right] \\quad\n",
    "$$"
   ]
  },
  {
   "cell_type": "code",
   "execution_count": 2,
   "metadata": {},
   "outputs": [
    {
     "name": "stdout",
     "output_type": "stream",
     "text": [
      "[[  6  29 -20]\n",
      " [ 12  52  38]\n",
      " [-18 -51 -48]]\n",
      "[[  6  29 -20]\n",
      " [ 12  52  38]\n",
      " [-18 -51 -48]]\n",
      "[[  6  29 -20]\n",
      " [ 12  52  38]\n",
      " [-18 -51 -48]]\n"
     ]
    }
   ],
   "source": [
    "import numpy as np\n",
    "\n",
    "a = np.array([[-1,2,3],\n",
    "                       [4,-5,6],\n",
    "                       [7,8,-9]])\n",
    "\n",
    "b = np.array([[0,2,1],\n",
    "                         [0,2,-8],\n",
    "                         [2,9,-1]])\n",
    "\n",
    "print(np.matmul(a, b))\n",
    "print(np.dot(a, b))\n",
    "print(a @ b)"
   ]
  },
  {
   "cell_type": "markdown",
   "metadata": {},
   "source": [
    "### 【問題3】ある要素の計算を実装\n",
    "$$\n",
    "\\sum _{{k=1}}^{3}a_{{0,k}}b_{{k,0}}\n",
    "$$\n",
    "\n",
    "この計算をnp.matmul()やnp.dot()、または@演算子を使わずに行うコードを書いてください。"
   ]
  },
  {
   "cell_type": "code",
   "execution_count": 3,
   "metadata": {},
   "outputs": [
    {
     "name": "stdout",
     "output_type": "stream",
     "text": [
      "[[6. 0. 0.]\n",
      " [0. 0. 0.]\n",
      " [0. 0. 0.]]\n"
     ]
    }
   ],
   "source": [
    "import numpy as np\n",
    "\n",
    "a = np.array([[-1,2,3],\n",
    "                       [4,-5,6],\n",
    "                       [7,8,-9]])\n",
    "\n",
    "b = np.array([[0,2,1],\n",
    "                         [0,2,-8],\n",
    "                         [2,9,-1]])\n",
    "\n",
    "c = np.zeros((3,3)) # forで追加する為の空配列を作成\n",
    "\n",
    "for i in range(3):\n",
    "    c[0][0] = a[0][i] * b[i][0]\n",
    "\n",
    "print(c)"
   ]
  },
  {
   "cell_type": "markdown",
   "metadata": {},
   "source": [
    "### 【問題4】行列積を行う関数の作成\n",
    "問題3のコードを拡張し、行列積のスクラッチ実装を完成させてください。行列AとBを引数に受け取り、行列積を返す関数としてください。\n",
    "$$\n",
    "c_{{i,j}}=\\sum _{{k=1}}^{3}a_{{i,k}}b_{{k,j}}\n",
    "$$"
   ]
  },
  {
   "cell_type": "code",
   "execution_count": 11,
   "metadata": {},
   "outputs": [
    {
     "name": "stdout",
     "output_type": "stream",
     "text": [
      "[[  6.  29. -20.]\n",
      " [ 12.  52.  38.]\n",
      " [-18. -51. -48.]]\n"
     ]
    }
   ],
   "source": [
    "import numpy as np\n",
    "\n",
    "def matrix_product(a, b, n):\n",
    "    c = np.zeros((n,n)) # forで追加する為の空配列を作成（emptyだと欠損値）\n",
    "    \n",
    "    for i in range(n):\n",
    "        for j in range(n):\n",
    "            for k in range(n):\n",
    "                c[i][j] += a[i][k] * b[k][j]\n",
    "                \n",
    "    return c\n",
    "\n",
    "a = np.array([[-1,2,3],\n",
    "                       [4,-5,6],\n",
    "                       [7,8,-9]])\n",
    "\n",
    "b = np.array([[0,2,1],\n",
    "                         [0,2,-8],\n",
    "                         [2,9,-1]])\n",
    "\n",
    "n = len(a) # n × n配列の指定（配列aの長さ（行数）を取得）\n",
    "\n",
    "c = matrix_product(a, b, n)\n",
    "\n",
    "print(c)"
   ]
  },
  {
   "cell_type": "markdown",
   "metadata": {},
   "source": [
    "### 【問題5】計算が定義されない入力を判定する\n",
    "問題4で作成した関数は、実装方法によってはこのDとEの配列を入力しても動いてしまう可能性があります。この場合、不適切な計算が行われることになります。また、途中でエラーになる場合でも、なぜエラーになったかが直接的には分かりづらいメッセージが表示されます。\n",
    "\n",
    "if文などによってこれを防ぎ、入力される形に問題があることをprint()を使い表示するコードを書き加えてください。"
   ]
  },
  {
   "cell_type": "code",
   "execution_count": 31,
   "metadata": {},
   "outputs": [
    {
     "name": "stdout",
     "output_type": "stream",
     "text": [
      "行列サイズが違い、計算できません。\n"
     ]
    }
   ],
   "source": [
    "import numpy as np\n",
    "\n",
    "d = np.array([[-1, 2, 3],\n",
    "                        [4, -5, 6]])\n",
    "\n",
    "e = np.array([[-9, 8, 7],\n",
    "                        [6, -5, 4]])\n",
    "\n",
    "d_shape_row = d.shape[1] # dの列数\n",
    "e_shape_line = e.shape[0] # eの行数\n",
    "\n",
    "if d_shape_row == e_shape_line:\n",
    "    print(np.dot(d, e))\n",
    "else:\n",
    "    print(\"行列サイズが違い、計算できません。\")"
   ]
  },
  {
   "cell_type": "code",
   "execution_count": 22,
   "metadata": {},
   "outputs": [
    {
     "name": "stdout",
     "output_type": "stream",
     "text": [
      "行列サイズが違い、計算できません。\n"
     ]
    }
   ],
   "source": [
    "\"\"\"\n",
    "import numpy as np\n",
    "\n",
    "def matrix_product(d, e, n):\n",
    "    f = np.zeros((n,n)) # forで追加する為の空配列を作成（emptyだと欠損値）\n",
    "    \n",
    "    for i in range(n):\n",
    "        for j in range(n):\n",
    "            for k in range(n):\n",
    "                f[i][j] += d[i][k] * e[k][j]\n",
    "                \n",
    "    return f\n",
    "\n",
    "d = np.array([[-1, 2, 3],\n",
    "                        [4, -5, 6]])\n",
    "\n",
    "e = np.array([[-9, 8, 7],\n",
    "                        [6, -5, 4]])\n",
    "\n",
    "d_shape_row = d.shape[1] # dの列数\n",
    "e_shape_line = e.shape[0] # eの行数\n",
    "\n",
    "if d_shape_row == e_shape_line:\n",
    "    n = len(d) # n × n配列の指定（配列aの長さ（行数）を取得）\n",
    "    f = matrix_product(d, e, n)\n",
    "    print(f)\n",
    "else:\n",
    "    print(\"行列サイズが違い、計算できません。\")"
   ]
  },
  {
   "cell_type": "markdown",
   "metadata": {},
   "source": [
    "### 【問題6】転置\n",
    "片方の行列を転置することで、行列積が計算できるようになります。\n",
    "\n",
    "np.transpose()や.Tアトリビュートを用いて転置し、行列積を計算してください。"
   ]
  },
  {
   "cell_type": "code",
   "execution_count": 38,
   "metadata": {},
   "outputs": [
    {
     "name": "stdout",
     "output_type": "stream",
     "text": [
      "行列サイズが違い、計算できません。\n",
      "転置後の行列eは[[-9  6]\n",
      " [ 8 -5]\n",
      " [ 7  4]]\n",
      "転置後の行列積は[[ 46  -4]\n",
      " [-34  73]]\n"
     ]
    }
   ],
   "source": [
    "import numpy as np\n",
    "\n",
    "d = np.array([[-1, 2, 3],\n",
    "                        [4, -5, 6]])\n",
    "\n",
    "e = np.array([[-9, 8, 7],\n",
    "                        [6, -5, 4]])\n",
    "\n",
    "d_shape_row = d.shape[1] # dの列数\n",
    "e_shape_line = e.shape[0] # eの行数\n",
    "\n",
    "if d_shape_row == e_shape_line:\n",
    "    print(\"行列積は{}\".format(np.dot(d, e)))\n",
    "else:\n",
    "    print(\"行列サイズが違い、計算できません。\")\n",
    "    e_T = e.T # 転置\n",
    "    print(\"転置後の行列eは{}\".format(e_T))\n",
    "    print(\"転置後の行列積は{}\".format(np.dot(d, e_T)))"
   ]
  },
  {
   "cell_type": "code",
   "execution_count": 41,
   "metadata": {},
   "outputs": [
    {
     "name": "stdout",
     "output_type": "stream",
     "text": [
      "行列サイズが違い、計算できません。\n",
      "転置後の行列eは[[-9  6]\n",
      " [ 8 -5]\n",
      " [ 7  4]]\n",
      "転置後の行列積は[[ 46  -4]\n",
      " [-34  73]]\n"
     ]
    }
   ],
   "source": [
    "import numpy as np\n",
    "\n",
    "d = np.array([[-1, 2, 3],\n",
    "                        [4, -5, 6]])\n",
    "\n",
    "e = np.array([[-9, 8, 7],\n",
    "                        [6, -5, 4]])\n",
    "\n",
    "d_shape_row = d.shape[1] # dの列数\n",
    "e_shape_line = e.shape[0] # eの行数\n",
    "\n",
    "if d_shape_row == e_shape_line:\n",
    "    print(\"行列積は{}\".format(np.dot(d, e)))\n",
    "else:\n",
    "    print(\"行列サイズが違い、計算できません。\")\n",
    "    e_T = np.transpose(e) # 転置\n",
    "    print(\"転置後の行列eは{}\".format(e_T))\n",
    "    print(\"転置後の行列積は{}\".format(np.dot(d, e_T)))"
   ]
  },
  {
   "cell_type": "code",
   "execution_count": 45,
   "metadata": {},
   "outputs": [
    {
     "name": "stdout",
     "output_type": "stream",
     "text": [
      "行列サイズが違い、計算できません。\n",
      "転置を行い、再計算実施。\n",
      "[[ 25. -16.]\n",
      " [-76.  49.]]\n"
     ]
    }
   ],
   "source": [
    "\"\"\"\n",
    "import numpy as np\n",
    "\n",
    "def matrix_product(d, e, n):\n",
    "    f = np.zeros((n,n)) # forで追加する為の空配列を作成（emptyだと欠損値）\n",
    "    \n",
    "    for i in range(n):\n",
    "        for j in range(n):\n",
    "            for k in range(n):\n",
    "                f[i][j] += d[i][k] * e[k][j]\n",
    "                \n",
    "    return f\n",
    "\n",
    "d = np.array([[-1, 2, 3],\n",
    "                        [4, -5, 6]])\n",
    "\n",
    "e = np.array([[-9, 8, 7],\n",
    "                        [6, -5, 4]])\n",
    "\n",
    "d_shape_row = d.shape[1] # dの列数\n",
    "e_shape_line = e.shape[0] # eの行数\n",
    "\n",
    "if d_shape_row == e_shape_line:\n",
    "    n = len(d) # n × n配列の指定（配列dの長さ（行数）を取得）\n",
    "    f = matrix_product(d, e, n)\n",
    "    print(f)\n",
    "else:\n",
    "    print(\"行列サイズが違い、計算できません。\")\n",
    "    print(\"転置を行い、再計算実施。\")\n",
    "    e = e.T\n",
    "    n = len(d) # n × n配列の指定（配列dの長さ（行数）を取得）\n",
    "    f = matrix_product(d, e, n)\n",
    "    print(f)"
   ]
  }
 ],
 "metadata": {
  "kernelspec": {
   "display_name": "Python 3",
   "language": "python",
   "name": "python3"
  },
  "language_info": {
   "codemirror_mode": {
    "name": "ipython",
    "version": 3
   },
   "file_extension": ".py",
   "mimetype": "text/x-python",
   "name": "python",
   "nbconvert_exporter": "python",
   "pygments_lexer": "ipython3",
   "version": "3.7.3"
  }
 },
 "nbformat": 4,
 "nbformat_minor": 2
}
