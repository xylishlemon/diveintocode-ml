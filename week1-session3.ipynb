{
 "cells": [
  {
   "cell_type": "markdown",
   "metadata": {},
   "source": [
    "#### 前提条件：\n",
    "栗まんじゅうも太陽系(宇宙)も球体との条件をもとに、以下の公式を使用。\n",
    "$$\n",
    "{V} = \\frac{4}{3}πr^3\\\\\n",
    "$$\n",
    "※宇宙の大きさについては諸説あるが、球体であるとの説を適用。  \n",
    "※太陽を中心に、最も遠い海王星までの距離45億440万km(4504400000000メートル)を半径とした球体の体積を、宇宙の体積と定義する。  \n",
    "※栗まんじゅうの大きさは任意で設定。  \n",
    "※πは3.14159265359とする。"
   ]
  },
  {
   "cell_type": "code",
   "execution_count": 40,
   "metadata": {},
   "outputs": [
    {
     "name": "stdout",
     "output_type": "stream",
     "text": [
      "栗まんじゅうのもとの体積は3.351032163829334e-05立方メートル。\n",
      "太陽系の体積は3.8282426617195026e+38立方メートル。\n",
      "栗まんじゅうの増加後の体積は7.47305144376387e+38立方メートル。\n",
      "太陽系が覆われるまでの時間は720分。\n"
     ]
    }
   ],
   "source": [
    "def chestnut_covered_space(volume_chestnut, volume_space):\n",
    "#     chestnut_number = 1 # 栗まんじゅう\n",
    "    chestnut_Increase_numbers = 0 # 増える回数\n",
    "    chestnut_Increase_times = 0 # 時間（分）\n",
    "    \n",
    "    while True:\n",
    "        volume_chestnut *= 2 # 栗まんじゅうの増加体積\n",
    "        chestnut_Increase_numbers += 1 # 回数\n",
    "#         volume_chestnut *= chestnut_number # 栗まんじゅうの増加体積\n",
    "        chestnut_Increase_times = 5 * chestnut_Increase_numbers # 時間（分）\n",
    "        if volume_space <= volume_chestnut:\n",
    "            break\n",
    "\n",
    "    return volume_chestnut, chestnut_Increase_times\n",
    "\n",
    "PAI = 3.14159265359\n",
    "radius_chestnut = 2/100 # 栗まんじゅうの半径（m）\n",
    "volume_chestnut_original = 4 * PAI * radius_chestnut ** 3 / 3 # 栗まんじゅうの体積\n",
    "volume_chestnut = volume_chestnut_original # オリジナル値を表示で使う為に意図的に代入\n",
    "radius_space = 4504400000000 # 太陽系（宇宙）の半径（m）\n",
    "volume_space = 4 * PAI * radius_space ** 3 / 3 # 太陽系（宇宙）の体積\n",
    "\n",
    "volume_chestnut, chestnut_Increase_times = chestnut_covered_space(volume_chestnut, volume_space)\n",
    "\n",
    "print(\"栗まんじゅうのもとの体積は{}立方メートル。\".format(volume_chestnut_original ))\n",
    "print(\"太陽系の体積は{}立方メートル。\".format(volume_space))\n",
    "print(\"栗まんじゅうの増加後の体積は{}立方メートル。\".format(volume_chestnut))\n",
    "print(\"太陽系が覆われるまでの時間は{:.0f}分。\".format(chestnut_Increase_times))"
   ]
  },
  {
   "cell_type": "code",
   "execution_count": null,
   "metadata": {},
   "outputs": [],
   "source": []
  }
 ],
 "metadata": {
  "kernelspec": {
   "display_name": "Python 3",
   "language": "python",
   "name": "python3"
  },
  "language_info": {
   "codemirror_mode": {
    "name": "ipython",
    "version": 3
   },
   "file_extension": ".py",
   "mimetype": "text/x-python",
   "name": "python",
   "nbconvert_exporter": "python",
   "pygments_lexer": "ipython3",
   "version": "3.7.3"
  }
 },
 "nbformat": 4,
 "nbformat_minor": 2
}
