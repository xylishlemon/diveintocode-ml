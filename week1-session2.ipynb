{
 "cells": [
  {
   "cell_type": "code",
   "execution_count": 95,
   "metadata": {},
   "outputs": [
    {
     "name": "stdout",
     "output_type": "stream",
     "text": [
      "富士山を超える最小の折る回数は26回。\n"
     ]
    }
   ],
   "source": [
    "#【課題】富士山を超える最小の折る回数\n",
    "THICKNESS = 0.00008 #紙の厚さ\n",
    "folded_thickness = 0 #折った後の厚さ\n",
    "fold_times = 43 #折る回数\n",
    "MT_FUJI = 3776 #富士山の高さ\n",
    "\n",
    "folded_thickness = THICKNESS\n",
    "\n",
    "for i in range(fold_times):\n",
    "    folded_thickness *= 2\n",
    "    if MT_FUJI <= folded_thickness:\n",
    "        break\n",
    "\n",
    "print(\"富士山を超える最小の折る回数は{}回。\".format(i+1))\n",
    "#i[0]から始まるので0〜25の26個となり、そのままiを取得すると25となる。\n",
    "#for：i[0]の時、0.00016"
   ]
  },
  {
   "cell_type": "code",
   "execution_count": 6,
   "metadata": {},
   "outputs": [
    {
     "name": "stdout",
     "output_type": "stream",
     "text": [
      "富士山を超える最小の折る回数は26回。\n"
     ]
    }
   ],
   "source": [
    "\"\"\"\n",
    "def f1(thickness=0.00008, distance=3776, i=0):\n",
    "    if thickness < distance:\n",
    "        return f1(thickness*2, distance, i+1)\n",
    "    return i \n",
    "print(\"富士山を超える最小の折る回数は{}回。\".format(f1()))"
   ]
  },
  {
   "cell_type": "code",
   "execution_count": 107,
   "metadata": {},
   "outputs": [
    {
     "name": "stdout",
     "output_type": "stream",
     "text": [
      "紙の厚さは4.7223664828696456e+16メートル。\n",
      "最も近い太陽以外の恒星に到達するのに折る回数は69回。\n"
     ]
    }
   ],
   "source": [
    "#【課題】任意の厚さに対応した関数を作成（関数無し）\n",
    "#最も近い太陽以外の恒星（プロキシマ・ケンタウリ）：4.243光年＝4.01419e+16メートル\n",
    "\n",
    "THICKNESS = 0.00008 #紙の厚さ（t0）\n",
    "distance = 4.01419e+16  #任意の距離（課題上は最も近い太陽以外の恒星までの距離）\n",
    "folded_thickness = 0 #折った後の厚さ\n",
    "fold_times = 0 #折る回数\n",
    "\n",
    "folded_thickness = THICKNESS\n",
    "\n",
    "while True:\n",
    "    folded_thickness *= 2\n",
    "    fold_times += 1\n",
    "    if distance <= folded_thickness:\n",
    "        break\n",
    "\n",
    "print(\"紙の厚さは{}メートル。\".format(folded_thickness))\n",
    "print(\"最も近い太陽以外の恒星に到達するのに折る回数は{}回。\".format(fold_times))\n",
    "#上記配列と違いi=1が最初となるので、そのままiを取得すれば問題無し。\n",
    "#while：i=1の時、0.00016"
   ]
  },
  {
   "cell_type": "code",
   "execution_count": 112,
   "metadata": {},
   "outputs": [
    {
     "name": "stdout",
     "output_type": "stream",
     "text": [
      "紙の厚さは4.7223664828696456e+16メートル。\n",
      "最も近い太陽以外の恒星に到達するのに折る回数は69回。\n"
     ]
    }
   ],
   "source": [
    "#【課題】任意の厚さに対応した関数を作成\n",
    "#最も近い太陽以外の恒星（プロキシマ・ケンタウリ）：4.243光年＝4.01419e+16メートル\n",
    "\n",
    "def number_folded_thickness(THICKNESS, distance):\n",
    "    folded_thickness = 0 #折った後の厚さ\n",
    "    fold_times = 0 #折る回数\n",
    "    \n",
    "    folded_thickness = THICKNESS\n",
    "    \n",
    "    while True:\n",
    "        folded_thickness *= 2\n",
    "        fold_times += 1\n",
    "        if distance <= folded_thickness:\n",
    "            break\n",
    "    \n",
    "    return folded_thickness, fold_times\n",
    "\n",
    "THICKNESS = 0.00008 #紙の厚さ（t0）\n",
    "distance = 4.01419e+16  #任意の距離（課題上は最も近い太陽以外の恒星までの距離）\n",
    "\n",
    "folded_thickness, fold_times = number_folded_thickness(THICKNESS, distance)\n",
    "\n",
    "print(\"紙の厚さは{}メートル。\".format(folded_thickness))\n",
    "print(\"最も近い太陽以外の恒星に到達するのに折る回数は{}回。\".format(fold_times))\n",
    "#上記配列と違いi=1が最初となるので、そのままiを取得すれば問題無し。\n",
    "#while：i=1の時、0.00016"
   ]
  },
  {
   "cell_type": "code",
   "execution_count": 131,
   "metadata": {},
   "outputs": [
    {
     "name": "stdout",
     "output_type": "stream",
     "text": [
      "紙の厚さは4.7223664828696456e+16メートル。\n",
      "紙の長さは1.0769802143185762e+57メートル。\n",
      "折る回数は69回。\n"
     ]
    }
   ],
   "source": [
    "#【課題】必要な紙の長さ\n",
    "\n",
    "def number_folded_thickness(THICKNESS, distance):\n",
    "    folded_thickness = 0 #折った後の厚さ\n",
    "    fold_times = 0 #折る回数\n",
    "    paper_lenght = 0 #紙の長さ\n",
    "    PAI = 3.14159265359 #円周率\n",
    "    \n",
    "    folded_thickness = THICKNESS\n",
    "    \n",
    "    while True:\n",
    "        folded_thickness *= 2\n",
    "        fold_times += 1\n",
    "        if distance <= folded_thickness:\n",
    "            break\n",
    "        paper_lenght = (PAI * folded_thickness * (2 ** fold_times + 4) * (2 ** fold_times - 1)) / 6\n",
    "    return folded_thickness, fold_times, paper_lenght\n",
    "\n",
    "THICKNESS = 0.00008 #紙の厚さ（t0）\n",
    "distance = 4.01419e+16  #任意の距離\n",
    "\n",
    "folded_thickness, fold_times, paper_lenght = number_folded_thickness(THICKNESS, distance)\n",
    "\n",
    "print(\"紙の厚さは{}メートル。\".format(folded_thickness))\n",
    "print(\"紙の長さは{}メートル。\".format(paper_lenght))\n",
    "print(\"折る回数は{}回。\".format(fold_times))\n",
    "#上記配列と違いi=1が最初となるので、そのままiを取得すれば問題無し。\n",
    "#while：i=1の時、0.00016"
   ]
  },
  {
   "cell_type": "markdown",
   "metadata": {},
   "source": [
    "#### 「月」までに必要な：\n",
    " - 紙の厚さは703687441.77664メートル。\n",
    " - 紙の長さは3.563428613552555e+33メートル。\n",
    " - 折る回数は43回。\n",
    "(distance(距離) = 384400000メートルで検証)\n",
    "\n",
    "#### 「富士山」までに必要な：\n",
    " - 紙の厚さは5368.70912メートル。\n",
    " - 紙の長さは1.5824803388333279e+18メートル。\n",
    " - 折る回数は26回。\n",
    "(distance(距離) = 3776メートルで検証)\n",
    "\n",
    "#### 「最も近い太陽以外の恒星(プロキシマ・ケンタウリ)」までに必要な：\n",
    " - 紙の厚さは4.7223664828696456e+16メートル。\n",
    " - 紙の長さは1.0769802143185762e+57メートル。\n",
    " - 折る回数は69回。\n",
    "(distance(距離) = 4.01419e+16メートルで検証)"
   ]
  },
  {
   "cell_type": "code",
   "execution_count": null,
   "metadata": {},
   "outputs": [],
   "source": []
  }
 ],
 "metadata": {
  "kernelspec": {
   "display_name": "Python 3",
   "language": "python",
   "name": "python3"
  },
  "language_info": {
   "codemirror_mode": {
    "name": "ipython",
    "version": 3
   },
   "file_extension": ".py",
   "mimetype": "text/x-python",
   "name": "python",
   "nbconvert_exporter": "python",
   "pygments_lexer": "ipython3",
   "version": "3.7.3"
  }
 },
 "nbformat": 4,
 "nbformat_minor": 2
}
